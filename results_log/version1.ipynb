{
 "cells": [
  {
   "cell_type": "markdown",
   "metadata": {},
   "source": [
    "# Version 1\n",
    "## Overall\n",
    "En esta primera versión establecimos el algoritmo genético, es de esperarse que\n",
    "no vieramos muchos resultados.\n",
    "\n",
    "Usando la imagen objetivo 1 obtuvimos hasta un 25% de similitud, después\n",
    "de ahí notamos estancamiento.\n",
    "\n",
    "Usando la imagen objetivo 2 obtuvimos hasta un 5% de similitud, después estancamiento.\n",
    "\n",
    "## Hiperparámetros notables\n",
    "- Selección de parejas: La selección de parejas para cruces lo hicimos\n",
    "    diviendo la lista de individuos top a la mitad.\n",
    "- Límites en la reproducción: Solo permitimos que la élite de cada generación\n",
    "    se reprodujese.\n",
    "- Mutación fija: No modificamos parámetros de mutación.\n",
    "- Selección de individuos supervivientes: Los individuos élite siempre\n",
    "    sobreviven.\n",
    "\n",
    "### Análsis de hiperparámetros\n",
    "- Selección de parejas: Si siempre cruzamos a los mismos individuos en cada\n",
    "  generación siempre vamos a estar obteniendo resultados muy similares. Para\n",
    "  siguientes versiones tal vez sea bueno introducir más aleatoriedad aquí.\n",
    "- Límites en la reproducción: Este es un hiperparámetro interesante, porque\n",
    "  se puede argumentar que no nos sirve de nada reproducir a los individuos\n",
    "  menos aptos (podríamos pensar en el futuro en una **mutación dinámica** para\n",
    "  tratar de lograr que los individuos en los estratos más bajos, salgan de ahí),\n",
    "  pero a la vez no es descabellado pensar que es en los estratos medios donde \n",
    "  ocurre la mayor diversidad, y no estamos dando oportunidad para que observar \n",
    "  esta diversidad.\n",
    "  Para no permitir que la élite se \"contamine\", vamos a introducir un sistema\n",
    "  de estratos para las siguientes versiones, donde la reproducción sea aleatoria\n",
    "  y permitida hacia dentro de los estratos.\n",
    "- Mutación fija: Podemos pensar en crear un algoritmo de mutación aleatoria, pero\n",
    "  tal vez no sea el momento para ello.\n",
    "- Selección de individuos supervivientes: Este es un parámetro muy interesante de\n",
    "  de analizar, porque al inicio parecía obvio que la técnica correcta acá era\n",
    "  usar el patrón elitista, sin embargo empezamos a observar que el fenotipo no\n",
    "  cambiaba, y llegaba a estancarse. Esto ocurre debido a que no estamos dando el \n",
    "  chance de que el algoritmo revierta sus errores, una vez encuentra un mejor\n",
    "  fenotipo no contempla que ese mejor fenotipo puede estar equivocado y por eso\n",
    "  observamos el estancamiento. Algo que podemos hacer para solucionar este estancamiento\n",
    "  es agregar un nuevo hiperparámetro que agregue un malus relacionado a la edad del individuo.\n",
    "  Es decir, un parámetro que indique que el que un mismo individuo llegue a una edad\n",
    "  muy avanzada sea un indicador de que vamos por el camino equivocado.\n",
    "\n",
    "# Detalles notorios de esta versión\n",
    "- Imagen estancada\n",
    "- Estancamiento en blanco\n",
    "- Colores desfavoridos"
   ]
  }
 ],
 "metadata": {
  "language_info": {
   "name": "python"
  },
  "orig_nbformat": 4
 },
 "nbformat": 4,
 "nbformat_minor": 2
}

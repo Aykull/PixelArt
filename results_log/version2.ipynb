{
 "cells": [
  {
   "cell_type": "markdown",
   "metadata": {},
   "source": [
    "# Version 2\n",
    "## Overall\n",
    "\n",
    "Vimos un gran aumento en el fitness de los individuos, tanto en el maximo como\n",
    "en el promedio de la población.\n",
    "\n",
    "Sin embargo, parece ser que apartir de cierto punto no se está generando suficiente\n",
    "entropía, es decir, llega la generación en la que ya las cosas no evolucionan\n",
    "demasiado diferente. Esto se da a, aproximadamente 50% de similitud con la imagen.\n",
    "\n",
    "Parece ser que los individuos de los estratos más altos llegan a \"invadir\" a los\n",
    "estratos más bajos, lo que genera que se pierda la variabilidad que se llegó\n",
    "a generar en los estratos bajos.\n",
    "\n",
    "Además, el tener que reproducir a toda la población aumentó notablemente\n",
    "el peso en el poder de computación.\n",
    "\n",
    "## Hiperparámetros notables\n",
    "- Selección de parejas: Utilizamos un acercamiento full random, dentro del mismo\n",
    "  estrato.\n",
    "- Límites en la reproducción: Utilizamos la estrategia de estratificación, y solo\n",
    "  permitimos reproducción dentro de los estratos.\n",
    "- Mutación fija: No dinamizamos la mutación en ningún momento.\n",
    "- Selección de individuos supervivientes: Los individuos élite siempre sobreviven.\n",
    "- Malus en la edad: Aplicamos un 0.001% de efecto negativo por año que tiene\n",
    "  un individuo.\n",
    "\n",
    "## Análisis de hiperparámetros\n",
    "- Selección de parejas: Full random parece darnos suficiente variabilidad\n",
    "  si quisieramos un poco más de control, podríamos usar una selección\n",
    "  en cascada.\n",
    "- Límites de reproducción: A pesar de que la estrategia de estratificación\n",
    "  funciona al inicio para generar variabilidad en estratos bajos, el hecho\n",
    "  de que los individuos de estratos altos tengan la posibilidad de llegar a estratos\n",
    "  bajos hace que la población se llegue a estancar después de cierta cantidad\n",
    "  de generaciones.\n",
    "- Mutación fija: Este parametro lo obscurece el hecho de que los estratos\n",
    "  bajos están siendo invadidos por poblaciones viejas, agregar más mutación\n",
    "  o mutación dinámica no va a ayudar de mucho.\n",
    "- Selección de individuos supervivientes: Estamos ensuciando estratos bajos\n",
    "  y estancando la variabilidad debido a que no modificamos este parámetro\n",
    "- Malus en la edad: Este fue un buen parámetro, pero falta un último salto: eliminar\n",
    "  individuos viejos. Esto lo podemos lograr modificando la selección de individuos\n",
    "  supervivientes"
   ]
  }
 ],
 "metadata": {
  "language_info": {
   "name": "python"
  },
  "orig_nbformat": 4
 },
 "nbformat": 4,
 "nbformat_minor": 2
}

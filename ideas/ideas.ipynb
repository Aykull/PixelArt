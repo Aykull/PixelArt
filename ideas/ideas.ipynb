{
 "cells": [
  {
   "cell_type": "markdown",
   "metadata": {},
   "source": [
    "Para hacer un algoritmo genético tenemos que definir:\n",
    "- Una representación del genotipo de un individuo\n",
    "  - Teniendo en mente que esto es lo que se va a heredar, mutar y cruzar entre individuos\n",
    "- Fenotipo\n",
    "  - La representación visual que se ve en un individuo\n",
    "- Función de fitness\n",
    "  - Es lo que nos dice qué tan cercano al resultado final es un individuo\n",
    "- Forma de realizar el cruce\n",
    "  - Cómo se van a combinar los cromosomas de los padres?\n",
    "  - Tipos: cruce de un punto, cruce de dos puntos, cruce uniforme...\n",
    "- Forma de realizar la mutación\n",
    "  - Qué tanto vamos a mutar los genes de un individuo\n",
    "- Estrategia de reemplazo\n",
    "  - Cómo se reemplazan los individuos de cada generación?\n",
    "  - Tipos: generacional, elitista."
   ]
  },
  {
   "cell_type": "markdown",
   "metadata": {},
   "source": [
    "# Fenotipo y genotipo\n",
    "Nuestro **fenotipo** va a ser la imagen generada que nosotros como humanos podemos ver, si ese es nuestro fenotipo, entonces el genotipo tienen que ser primitivas a partir de las cuales se saque/calcule/genere el fenotipo.\n",
    "\n",
    "Basado en diferentes ejemplos de repositorios y aplicaciones que realizan\n",
    "proyectos similares, parece que lo mejor es elegir como genotipo una especificación\n",
    "de figuras geométricas.\n",
    "\n",
    "De manera que vamos a tener los siguientes genes:\n",
    "1. Cantidad de cuadrados\n",
    "2. Lista de cuadrados\n",
    "   - Posiciones de sus vértices\n",
    "   - Color "
   ]
  },
  {
   "cell_type": "code",
   "execution_count": 108,
   "metadata": {},
   "outputs": [],
   "source": [
    "from PIL import Image, ImageDraw, ImageChops, ImageColor\n",
    "\n",
    "canvas_size = (50, 50)\n",
    "def make_fenotype(genotype):\n",
    "    canvas = Image.new(\"RGB\", canvas_size, ImageColor.getrgb(\"white\"))\n",
    "    draw = ImageDraw.Draw(canvas, \"RGBA\")\n",
    "    for figure in genotype.figures:\n",
    "        draw.rectangle(\n",
    "            [figure.initial_point, figure.end_point], fill=figure.color)\n",
    "    canvas.save(\"fenotype.png\")\n",
    "    return canvas"
   ]
  },
  {
   "cell_type": "code",
   "execution_count": 109,
   "metadata": {},
   "outputs": [],
   "source": [
    "class MyRect:\n",
    "    def __init__(self, initial_point:tuple[int, int], \n",
    "                 end_point:tuple[int, int], color:tuple[int, int, int])-> None:\n",
    "        self.initial_point = initial_point\n",
    "        self.end_point = end_point\n",
    "        self.color = color\n",
    "\n",
    "class Genotype:\n",
    "    def __init__(self, figure_quantity: int, figures: list[MyRect]) -> None:\n",
    "        self.figure_quantity = figure_quantity\n",
    "        self.figures = figures"
   ]
  },
  {
   "cell_type": "code",
   "execution_count": 110,
   "metadata": {},
   "outputs": [
    {
     "data": {
      "image/png": "[encoded data removed]",
      "text/plain": [
       "<PIL.Image.Image image mode=RGB size=50x50>"
      ]
     },
     "metadata": {},
     "output_type": "display_data"
    }
   ],
   "source": [
    "# Ejemplo de un genotipo y su correspondiente genotipo\n",
    "genotype = Genotype(2, [\n",
    "    MyRect((5, 7), (40, 30), (255, 0, 0, 127)),\n",
    "    MyRect((6, 4), (35, 20), (0, 255, 0, 127))\n",
    "])\n",
    "\n",
    "display(make_fenotype(genotype))"
   ]
  },
  {
   "cell_type": "markdown",
   "metadata": {},
   "source": [
    "# Fitness\n",
    "Necesitamos una función que sea capaz de comparar dos imágenes.\n",
    "\n",
    "Existen varias alternativas para esto:\n",
    "- MSE (Mean Squared Error): Esta métrica compara los píxeles individuales de las dos imágenes y calcula el promedio de las diferencias cuadráticas entre los valores de píxeles correspondientes. Cuanto menor sea el valor de MSE, más similares serán las imágenes.\n",
    "- PSNR (Peak Signal-to-Noise Ratio): Es una métrica que mide la calidad de una imagen comparando la señal (la imagen objetivo) con el ruido (la diferencia entre la imagen objetivo y la generada). Cuanto mayor sea el valor de PSNR, más se parecerán las imágenes.\n",
    "- SSIM (Structural Similarity Index): Esta métrica evalúa la similitud estructural entre dos imágenes, teniendo en cuenta la luminancia, el contraste y la estructura. SSIM proporciona un valor entre -1 y 1, donde 1 indica una similitud perfecta.\n",
    "- Cosine Similarity: Esta métrica mide la similitud coseno entre los vectores de píxeles de las dos imágenes. Puede ser útil si deseas comparar la similitud entre imágenes en espacios de características.\n",
    "\n",
    "Inicialmente intentaremos con SSIM por ser más parecido a cómo los humanos comparamos\n",
    "imágenes.\n"
   ]
  },
  {
   "cell_type": "markdown",
   "metadata": {},
   "source": []
  }
 ],
 "metadata": {
  "kernelspec": {
   "display_name": "Python 3",
   "language": "python",
   "name": "python3"
  },
  "language_info": {
   "codemirror_mode": {
    "name": "ipython",
    "version": 3
   },
   "file_extension": ".py",
   "mimetype": "text/x-python",
   "name": "python",
   "nbconvert_exporter": "python",
   "pygments_lexer": "ipython3",
   "version": "3.11.5"
  },
  "orig_nbformat": 4
 },
 "nbformat": 4,
 "nbformat_minor": 2
}

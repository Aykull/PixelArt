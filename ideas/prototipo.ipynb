{
 "cells": [
  {
   "cell_type": "markdown",
   "metadata": {},
   "source": [
    "Para hacer un algoritmo genético tenemos que definir:\n",
    "- Una representación del genotipo de un individuo\n",
    "  - Teniendo en mente que esto es lo que se va a heredar, mutar y cruzar entre individuos\n",
    "- Fenotipo\n",
    "  - La representación visual que se ve en un individuo\n",
    "- Función de fitness\n",
    "  - Es lo que nos dice qué tan cercano al resultado final es un individuo\n",
    "- Forma de realizar el cruce\n",
    "  - Cómo se van a combinar los cromosomas de los padres?\n",
    "  - Tipos: cruce de un punto, cruce de dos puntos, cruce uniforme...\n",
    "- Forma de realizar la mutación\n",
    "  - Qué tanto vamos a mutar los genes de un individuo\n",
    "- Estrategia de reemplazo\n",
    "  - Cómo se reemplazan los individuos de cada generación?\n",
    "  - Tipos: generacional, elitista."
   ]
  },
  {
   "cell_type": "markdown",
   "metadata": {},
   "source": [
    "# Fenotipo y genotipo\n",
    "Nuestro **fenotipo** va a ser la imagen generada que nosotros como humanos podemos ver, si ese es nuestro fenotipo, entonces el genotipo tienen que ser primitivas a partir de las cuales se saque/calcule/genere el fenotipo.\n",
    "\n",
    "Basado en diferentes ejemplos de repositorios y aplicaciones que realizan\n",
    "proyectos similares, parece que lo mejor es elegir como genotipo una especificación\n",
    "de figuras geométricas.\n",
    "\n",
    "De manera que vamos a tener los siguientes genes:\n",
    "1. Cantidad de cuadrados\n",
    "2. Lista de cuadrados\n",
    "   - Posiciones de sus vértices\n",
    "   - Color "
   ]
  },
  {
   "cell_type": "code",
   "execution_count": 55,
   "metadata": {},
   "outputs": [],
   "source": [
    "from PIL import Image, ImageDraw, ImageChops, ImageColor\n",
    "\n",
    "canvas_size = (50, 50)\n",
    "def make_fenotype(genotype):\n",
    "    canvas = Image.new(\"RGB\", canvas_size, ImageColor.getrgb(\"white\"))\n",
    "    draw = ImageDraw.Draw(canvas, \"RGBA\")\n",
    "    for figure in genotype.figures:\n",
    "        draw.rectangle(\n",
    "            [figure.initial_point, figure.end_point], fill=figure.color)\n",
    "    canvas.save(\"fenotype.png\")\n",
    "    return canvas"
   ]
  },
  {
   "cell_type": "code",
   "execution_count": 56,
   "metadata": {},
   "outputs": [],
   "source": [
    "class MyRect:\n",
    "    def __init__(self, initial_point:tuple[int, int], \n",
    "                 end_point:tuple[int, int], color:tuple[int, int, int])-> None:\n",
    "        self.initial_point = initial_point\n",
    "        self.end_point = end_point\n",
    "        self.color = color\n",
    "\n",
    "class Genotype:\n",
    "    def __init__(self, figure_quantity: int, figures: list[MyRect]) -> None:\n",
    "        self.figure_quantity = figure_quantity\n",
    "        self.figures = figures"
   ]
  },
  {
   "cell_type": "code",
   "execution_count": 57,
   "metadata": {},
   "outputs": [
    {
     "data": {
      "image/jpeg": "[encoded data removed]",
      "image/png": "[encoded data removed]",
      "text/plain": [
       "<PIL.Image.Image image mode=RGB size=50x50>"
      ]
     },
     "metadata": {},
     "output_type": "display_data"
    }
   ],
   "source": [
    "# Ejemplo de un genotipo y su correspondiente fenotipo\n",
    "genotype = Genotype(2, [\n",
    "    MyRect((5, 7), (40, 30), (255, 0, 0, 127)),\n",
    "    MyRect((6, 4), (35, 20), (0, 255, 0, 127))\n",
    "])\n",
    "\n",
    "fenotype = make_fenotype(genotype)\n",
    "display(fenotype)"
   ]
  },
  {
   "cell_type": "markdown",
   "metadata": {},
   "source": [
    "# Fitness\n",
    "Necesitamos una función que sea capaz de comparar dos imágenes.\n",
    "\n",
    "Existen varias alternativas para esto:\n",
    "- MSE (Mean Squared Error): Esta métrica compara los píxeles individuales de las dos imágenes y calcula el promedio de las diferencias cuadráticas entre los valores de píxeles correspondientes. Cuanto menor sea el valor de MSE, más similares serán las imágenes.\n",
    "- PSNR (Peak Signal-to-Noise Ratio): Es una métrica que mide la calidad de una imagen comparando la señal (la imagen objetivo) con el ruido (la diferencia entre la imagen objetivo y la generada). Cuanto mayor sea el valor de PSNR, más se parecerán las imágenes.\n",
    "- SSIM (Structural Similarity Index): Esta métrica evalúa la similitud estructural entre dos imágenes, teniendo en cuenta la luminancia, el contraste y la estructura. SSIM proporciona un valor entre -1 y 1, donde 1 indica una similitud perfecta.\n",
    "- Cosine Similarity: Esta métrica mide la similitud coseno entre los vectores de píxeles de las dos imágenes. Puede ser útil si deseas comparar la similitud entre imágenes en espacios de características.\n",
    "\n",
    "Inicialmente intentaremos con SSIM por ser más parecido a cómo los humanos comparamos\n",
    "imágenes.\n"
   ]
  },
  {
   "cell_type": "markdown",
   "metadata": {},
   "source": [
    "In order to not make the wheel again, we will be using pip package pyssim\n",
    "to compare images, [this is the repo](https://github.dev/jterrace/pyssim)"
   ]
  },
  {
   "cell_type": "code",
   "execution_count": 58,
   "metadata": {},
   "outputs": [
    {
     "data": {
      "text/plain": [
       "1.0"
      ]
     },
     "execution_count": 58,
     "metadata": {},
     "output_type": "execute_result"
    }
   ],
   "source": [
    "import ssim\n",
    "ssim.compute_ssim(fenotype, fenotype)"
   ]
  },
  {
   "cell_type": "markdown",
   "metadata": {},
   "source": [
    "# Cruces\n",
    "Iniciaremos con el más sencillo de los cruces: Cruce de un punto, y haremos\n",
    "la operación de cruce paramétrica, para así poder cambiarla después de ser \n",
    "necesario para la experimentación."
   ]
  },
  {
   "cell_type": "code",
   "execution_count": 59,
   "metadata": {},
   "outputs": [
    {
     "data": {
      "image/jpeg": "[encoded data removed]",
      "image/png": "[encoded data removed]",
      "text/plain": [
       "<PIL.Image.Image image mode=RGB size=50x50>"
      ]
     },
     "metadata": {},
     "output_type": "display_data"
    }
   ],
   "source": [
    "genotype_1 = genotype\n",
    "genotype_2 = Genotype(3, [\n",
    "    MyRect((5, 7), (40, 30), (255, 0, 0, 127)),\n",
    "    MyRect((10, 20), (20, 30), (0, 255, 0, 127)),\n",
    "    MyRect((20, 20), (40, 40), (0, 0, 255, 30))]\n",
    ")\n",
    "fenotype_2 = make_fenotype(genotype_2)\n",
    "display(fenotype_2)"
   ]
  },
  {
   "cell_type": "code",
   "execution_count": 60,
   "metadata": {},
   "outputs": [],
   "source": [
    "import random\n",
    "\n",
    "def one_point_crossover(genotype1: Genotype, genotype2: Genotype) -> Genotype:\n",
    "    son_figure_quantity = random.choice([genotype1.figure_quantity,\n",
    "                                         genotype2.figure_quantity])\n",
    "    crossover_point = random.randint(0, son_figure_quantity)\n",
    "\n",
    "    parent1_figures = genotype1.figures[:crossover_point]\n",
    "\n",
    "    if genotype1.figure_quantity < crossover_point:\n",
    "        figures_difference = crossover_point - genotype1.figure_quantity\n",
    "        crossover_point = crossover_point - figures_difference\n",
    "    \n",
    "    parent2_figures = genotype2.figures[crossover_point:]\n",
    "\n",
    "    parent1_figures = genotype1.figures[:crossover_point]\n",
    "    son_figures = parent1_figures + parent2_figures\n",
    "    return Genotype(son_figure_quantity, son_figures)"
   ]
  },
  {
   "cell_type": "code",
   "execution_count": 61,
   "metadata": {},
   "outputs": [
    {
     "data": {
      "image/jpeg": "[encoded data removed]",
      "image/png": "[encoded data removed]",
      "text/plain": [
       "<PIL.Image.Image image mode=RGB size=50x50>"
      ]
     },
     "metadata": {},
     "output_type": "display_data"
    }
   ],
   "source": [
    "genotype_3 = one_point_crossover(genotype_2, genotype_1)\n",
    "fenotype_3 = make_fenotype(genotype_3)\n",
    "display(fenotype_3)"
   ]
  },
  {
   "cell_type": "markdown",
   "metadata": {},
   "source": [
    "# Mutacion\n",
    "La mutación como tal involucra dos hiper-parámetros:\n",
    "- Probabilidad de mutación: Debería ser la probabilidad de que cada gen mute\n",
    "- Cantidad de mutación: Debería ser la desviación en la que se aleja del valor\n",
    "  original el gen una vez que muta\n"
   ]
  },
  {
   "cell_type": "code",
   "execution_count": 62,
   "metadata": {},
   "outputs": [],
   "source": [
    "import math\n",
    "mutation_chance = 0.8 # For this test set it high so we see high proability of mutation\n",
    "mutation_quantity = 0.2 \n",
    "\n",
    "def mutate_int(value: int) -> int:\n",
    "    upper_value = math.floor(value + mutation_quantity * value)\n",
    "    lower_value = math.floor(value - mutation_quantity * value)\n",
    "    if lower_value < 0:\n",
    "        lower_value = 0\n",
    "    return random.randint(lower_value, upper_value)\n",
    "\n",
    "def mutate_point(point: tuple[int, int]) -> tuple[int, int]:\n",
    "    x, y = point\n",
    "    x = mutate_int(x)\n",
    "    y = mutate_int(y)\n",
    "    return (x, y)\n",
    "\n",
    "def mutate_color(color: tuple[int, int, int]) -> tuple[int, int, int]:\n",
    "    r, g, b, a = color\n",
    "    r = mutate_int(r)\n",
    "    g = mutate_int(g)\n",
    "    b = mutate_int(b)\n",
    "    a = mutate_int(a)\n",
    "    return (r, g, b, a)\n",
    "\n",
    "def mutate(genotype: Genotype) -> Genotype:\n",
    "    mutate_figure_quantity = random.random() < mutation_chance\n",
    "    if mutate_figure_quantity:\n",
    "        genotype.figure_quantity = mutate_int(genotype.figure_quantity)\n",
    "    \n",
    "    for figure in genotype.figures:\n",
    "        mutate_figure_shape = random.random() < mutation_chance\n",
    "        if mutate_figure_shape:\n",
    "            figure.initial_point = mutate_point(figure.initial_point)\n",
    "            figure.end_point = mutate_point(figure.end_point)\n",
    "        \n",
    "        mutate_figure_color = random.random() < mutation_chance\n",
    "        if mutate_figure_color:\n",
    "            figure.color = mutate_color(figure.color)\n",
    "\n",
    "    return genotype"
   ]
  },
  {
   "cell_type": "code",
   "execution_count": 73,
   "metadata": {},
   "outputs": [
    {
     "data": {
      "image/jpeg": "[encoded data removed]",
      "image/png": "[encoded data removed]",
      "text/plain": [
       "<PIL.Image.Image image mode=RGB size=50x50>"
      ]
     },
     "metadata": {},
     "output_type": "display_data"
    }
   ],
   "source": [
    "mutated_genotype3 = mutate(genotype_3)\n",
    "mutated_fenotype3 = make_fenotype(mutated_genotype3)\n",
    "display(mutated_fenotype3)"
   ]
  },
  {
   "cell_type": "markdown",
   "metadata": {},
   "source": [
    "# Estrategia de reemplazo\n",
    "Esto también debería ser un hiperparámetro.\n",
    "Iniciaremos con la que intuitivamente debería dar mejores resultados: elitista.\n",
    "\n",
    "Mantendremos al top 30% (que esto puede variar) de mejores individuos de la\n",
    "generación anterior."
   ]
  },
  {
   "cell_type": "markdown",
   "metadata": {},
   "source": []
  }
 ],
 "metadata": {
  "kernelspec": {
   "display_name": "Python 3",
   "language": "python",
   "name": "python3"
  },
  "language_info": {
   "codemirror_mode": {
    "name": "ipython",
    "version": 3
   },
   "file_extension": ".py",
   "mimetype": "text/x-python",
   "name": "python",
   "nbconvert_exporter": "python",
   "pygments_lexer": "ipython3",
   "version": "3.11.5"
  },
  "orig_nbformat": 4
 },
 "nbformat": 4,
 "nbformat_minor": 2
}
